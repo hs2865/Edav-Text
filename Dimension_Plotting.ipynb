{
 "cells": [
  {
   "cell_type": "code",
   "execution_count": 241,
   "metadata": {
    "collapsed": false
   },
   "outputs": [
    {
     "name": "stderr",
     "output_type": "stream",
     "text": [
      "/usr/local/lib/python2.7/site-packages/matplotlib/__init__.py:872: UserWarning: axes.color_cycle is deprecated and replaced with axes.prop_cycle; please use the latter.\n",
      "  warnings.warn(self.msg_depr % (key, alt_key))\n"
     ]
    }
   ],
   "source": [
    "import os\n",
    "import nltk\n",
    "import numpy as np\n",
    "from sklearn.feature_extraction.text import CountVectorizer\n",
    "from os import listdir\n",
    "from os.path import isfile, join\n",
    "import seaborn as sns"
   ]
  },
  {
   "cell_type": "code",
   "execution_count": 7,
   "metadata": {
    "collapsed": false
   },
   "outputs": [
    {
     "name": "stdout",
     "output_type": "stream",
     "text": [
      "s\n",
      "o\n",
      "u\n",
      "r\n",
      "c\n",
      "e\n",
      "/\n"
     ]
    }
   ],
   "source": [
    "source = \"source/\"\n",
    "for fn in source:\n",
    "    print fn"
   ]
  },
  {
   "cell_type": "code",
   "execution_count": 288,
   "metadata": {
    "collapsed": false
   },
   "outputs": [],
   "source": [
    "source = \"/Users/bobminnich/Documents/Columbia/Courses/DataVisualization/Edav-Text/source\"\n",
    "files = [f for f in listdir(source) if isfile(join(source, f))]\n",
    "\n",
    "filenames_with_path = []\n",
    "for i in files:\n",
    "    filenames_with_path.append(source+ \"/\" + i)\n"
   ]
  },
  {
   "cell_type": "code",
   "execution_count": 300,
   "metadata": {
    "collapsed": false
   },
   "outputs": [
    {
     "data": {
      "text/plain": [
       "224"
      ]
     },
     "execution_count": 300,
     "metadata": {},
     "output_type": "execute_result"
    }
   ],
   "source": [
    "len(files)"
   ]
  },
  {
   "cell_type": "code",
   "execution_count": 289,
   "metadata": {
    "collapsed": false
   },
   "outputs": [],
   "source": [
    "raw_texts = []\n",
    "for fn in filenames_with_path:\n",
    "    with open(fn) as f:\n",
    "        text = f.read()\n",
    "        text = text.replace('_', '')  # remove underscores (italics)\n",
    "        raw_texts.append(text)"
   ]
  },
  {
   "cell_type": "code",
   "execution_count": 290,
   "metadata": {
    "collapsed": false
   },
   "outputs": [],
   "source": [
    "vectorizer = CountVectorizer(input='content', stop_words=\"english\")"
   ]
  },
  {
   "cell_type": "code",
   "execution_count": 291,
   "metadata": {
    "collapsed": true
   },
   "outputs": [],
   "source": [
    "dtm = vectorizer.fit_transform(raw_texts)"
   ]
  },
  {
   "cell_type": "code",
   "execution_count": 292,
   "metadata": {
    "collapsed": true
   },
   "outputs": [],
   "source": [
    "vocab = np.array(vectorizer.get_feature_names())"
   ]
  },
  {
   "cell_type": "code",
   "execution_count": 293,
   "metadata": {
    "collapsed": true
   },
   "outputs": [],
   "source": [
    "dtm = dtm.toarray()"
   ]
  },
  {
   "cell_type": "code",
   "execution_count": 294,
   "metadata": {
    "collapsed": false
   },
   "outputs": [],
   "source": [
    "rates = 1000 * dtm / np.sum(dtm, axis=1, keepdims=True)"
   ]
  },
  {
   "cell_type": "code",
   "execution_count": 295,
   "metadata": {
    "collapsed": false
   },
   "outputs": [],
   "source": [
    "import pandas as pd"
   ]
  },
  {
   "cell_type": "code",
   "execution_count": 296,
   "metadata": {
    "collapsed": true
   },
   "outputs": [],
   "source": [
    "df = pd.DataFrame(dtm)"
   ]
  },
  {
   "cell_type": "code",
   "execution_count": 297,
   "metadata": {
    "collapsed": false
   },
   "outputs": [
    {
     "name": "stdout",
     "output_type": "stream",
     "text": [
      "(224, 24156)\n",
      "(224, 24156)\n"
     ]
    }
   ],
   "source": [
    "print rates.shape\n",
    "print df.shape"
   ]
  },
  {
   "cell_type": "code",
   "execution_count": 298,
   "metadata": {
    "collapsed": false
   },
   "outputs": [],
   "source": [
    "df.columns = vocab"
   ]
  },
  {
   "cell_type": "code",
   "execution_count": 70,
   "metadata": {
    "collapsed": false
   },
   "outputs": [],
   "source": [
    "from sklearn import decomposition\n"
   ]
  },
  {
   "cell_type": "code",
   "execution_count": 72,
   "metadata": {
    "collapsed": true
   },
   "outputs": [],
   "source": [
    "pca = decomposition.PCA(n_components=50)"
   ]
  },
  {
   "cell_type": "code",
   "execution_count": 74,
   "metadata": {
    "collapsed": false
   },
   "outputs": [],
   "source": [
    "new = pca.fit_transform(df)"
   ]
  },
  {
   "cell_type": "code",
   "execution_count": 77,
   "metadata": {
    "collapsed": false
   },
   "outputs": [
    {
     "data": {
      "text/plain": [
       "(224, 50)"
      ]
     },
     "execution_count": 77,
     "metadata": {},
     "output_type": "execute_result"
    }
   ],
   "source": [
    "new.shape"
   ]
  },
  {
   "cell_type": "code",
   "execution_count": 86,
   "metadata": {
    "collapsed": true
   },
   "outputs": [],
   "source": [
    "from sklearn.manifold import TSNE"
   ]
  },
  {
   "cell_type": "code",
   "execution_count": 87,
   "metadata": {
    "collapsed": false
   },
   "outputs": [],
   "source": [
    "tsne = TSNE()"
   ]
  },
  {
   "cell_type": "code",
   "execution_count": 89,
   "metadata": {
    "collapsed": false
   },
   "outputs": [],
   "source": [
    "tsnew = tsne.fit_transform(new)"
   ]
  },
  {
   "cell_type": "code",
   "execution_count": 91,
   "metadata": {
    "collapsed": false
   },
   "outputs": [],
   "source": [
    "%matplotlib inline\n",
    "import matplotlib.pylab as plt"
   ]
  },
  {
   "cell_type": "code",
   "execution_count": 256,
   "metadata": {
    "collapsed": false
   },
   "outputs": [
    {
     "data": {
      "text/plain": [
       "(0.89573241682613591, 0.76784315109252932, 0.58182240093455595)"
      ]
     },
     "execution_count": 256,
     "metadata": {},
     "output_type": "execute_result"
    }
   ],
   "source": [
    "parties = np.unique(finaldf[\"Political Party\"])\n",
    "cols = sns.color_palette(\"Set2\", 7)\n",
    "\n",
    "col_dict = dict(zip(parties,cols))\n",
    "col_dict[\"Whig\"]"
   ]
  },
  {
   "cell_type": "code",
   "execution_count": 267,
   "metadata": {
    "collapsed": false
   },
   "outputs": [
    {
     "data": {
      "text/plain": [
       "(232, 19)"
      ]
     },
     "execution_count": 267,
     "metadata": {},
     "output_type": "execute_result"
    }
   ],
   "source": [
    "finaldf.shape"
   ]
  },
  {
   "cell_type": "code",
   "execution_count": 363,
   "metadata": {
    "collapsed": false
   },
   "outputs": [
    {
     "name": "stderr",
     "output_type": "stream",
     "text": [
      "/usr/local/lib/python2.7/site-packages/ipykernel/__main__.py:11: SettingWithCopyWarning: \n",
      "A value is trying to be set on a copy of a slice from a DataFrame.\n",
      "Try using .loc[row_indexer,col_indexer] = value instead\n",
      "\n",
      "See the caveats in the documentation: http://pandas.pydata.org/pandas-docs/stable/indexing.html#indexing-view-versus-copy\n",
      "/usr/local/lib/python2.7/site-packages/ipykernel/__main__.py:12: SettingWithCopyWarning: \n",
      "A value is trying to be set on a copy of a slice from a DataFrame.\n",
      "Try using .loc[row_indexer,col_indexer] = value instead\n",
      "\n",
      "See the caveats in the documentation: http://pandas.pydata.org/pandas-docs/stable/indexing.html#indexing-view-versus-copy\n"
     ]
    },
    {
     "data": {
      "text/plain": [
       "<matplotlib.legend.Legend at 0x113804dd0>"
      ]
     },
     "execution_count": 363,
     "metadata": {},
     "output_type": "execute_result"
    },
    {
     "data": {
      "image/png": "[encoded data removed]",
      "text/plain": [
       "<matplotlib.figure.Figure at 0x11a21c150>"
      ]
     },
     "metadata": {},
     "output_type": "display_data"
    }
   ],
   "source": [
    "fig = plt.gcf()\n",
    "fig.set_size_inches(18.5, 10.5)\n",
    "\n",
    "x = tsnew[:,0]\n",
    "y = tsnew[:,1]\n",
    "#plt.scatter(x,y)\n",
    "#plt.text(x,y,finaldf.Namea)\n",
    "\n",
    "\n",
    "plot_df = finaldf\n",
    "plot_df[\"x\"] = x\n",
    "plot_df[\"y\"] = y\n",
    "\n",
    "for i in parties:\n",
    "    intdf = plot_df[plot_df[\"Political Party\"]==i]\n",
    "    plt.scatter(intdf.x,intdf.y,color = col_dict[i], s = 80 )\n",
    "\n",
    "\n",
    "# for i, txt in enumerate(files):\n",
    "#     #plt.annotate(finaldf.Name[i], (x[i],y[i]))\n",
    "#     plt.scatter(x[i],y[i],color = col_dict[finaldf[\"Political Party\"][i]], s = 80 )\n",
    "\n",
    "plt.legend(parties)"
   ]
  },
  {
   "cell_type": "code",
   "execution_count": 310,
   "metadata": {
    "collapsed": false
   },
   "outputs": [],
   "source": []
  },
  {
   "cell_type": "code",
   "execution_count": 108,
   "metadata": {
    "collapsed": false
   },
   "outputs": [],
   "source": [
    "doc_years = []\n",
    "for i in files:\n",
    "    doc_years.append(int(i.split(\"_\")[0]))"
   ]
  },
  {
   "cell_type": "code",
   "execution_count": 311,
   "metadata": {
    "collapsed": false
   },
   "outputs": [],
   "source": [
    "doc_df = pd.DataFrame(files)\n"
   ]
  },
  {
   "cell_type": "code",
   "execution_count": 313,
   "metadata": {
    "collapsed": false
   },
   "outputs": [],
   "source": []
  },
  {
   "cell_type": "code",
   "execution_count": null,
   "metadata": {
    "collapsed": false
   },
   "outputs": [],
   "source": []
  },
  {
   "cell_type": "code",
   "execution_count": null,
   "metadata": {
    "collapsed": false
   },
   "outputs": [],
   "source": []
  },
  {
   "cell_type": "code",
   "execution_count": 458,
   "metadata": {
    "collapsed": false
   },
   "outputs": [],
   "source": [
    "pres_df = pd.read_csv(\"PresidentInfo.csv\")\n",
    "a = list(pres_df.columns)\n",
    "a[2] = \"year\"\n",
    "a[0] = \"name\"\n",
    "pres_df.columns = a\n",
    "\n",
    "\n",
    "toc = pd.read_csv(\"table_of_contents.txt\", header=-1)\n",
    "toc[\"file\"] = files\n",
    "toc.columns = [\"name\",\"speech\",\"MD\",\"year\", \"File\"]\n",
    "toc = toc.drop(\"speech\",1)\n",
    "finaldf = pd.merge(toc,pres_df ,how=\"left\",on=[\"name\"])\n",
    "finaldf = finaldf[finaldf.File.duplicated() == False]\n",
    "finaldf.to_csv(\"President_Info2.csv\")"
   ]
  },
  {
   "cell_type": "code",
   "execution_count": 459,
   "metadata": {
    "collapsed": false
   },
   "outputs": [
    {
     "data": {
      "text/plain": [
       "Index([u'name', u'MD', u'year_x', u'File', u'Years in office', u'year_y',\n",
       "       u'Age at inauguration', u'State elected from', u'# of electoral votes',\n",
       "       u' # of popular votes ', u' National total votes ',\n",
       "       u'Total electoral votes', u'Rating points', u'Political Party',\n",
       "       u'Occupation', u'College', u'% electoral', u'% popular'],\n",
       "      dtype='object')"
      ]
     },
     "execution_count": 459,
     "metadata": {},
     "output_type": "execute_result"
    }
   ],
   "source": [
    "stats_df = finaldf[finaldf.name.duplicated() == False]\n",
    "stats_df.columns"
   ]
  },
  {
   "cell_type": "code",
   "execution_count": 460,
   "metadata": {
    "collapsed": false
   },
   "outputs": [],
   "source": [
    "ratings = stats_df[\"Rating points\"]\n",
    "ratings = ratings[np.isnan(ratings) == False]\n",
    "median = np.percentile(ratings,50)\n",
    "per_75 = np.percentile(ratings,75)\n",
    "per_25 = np.percentile(ratings,25)\n"
   ]
  },
  {
   "cell_type": "code",
   "execution_count": 461,
   "metadata": {
    "collapsed": false
   },
   "outputs": [
    {
     "data": {
      "text/plain": [
       "(array([ 3.,  0.,  0.,  1.,  3.,  4.,  1.,  0.,  1.,  3.,  3.,  2.,  1.,\n",
       "         2.,  2.,  1.,  0.,  1.,  1.,  1.]),\n",
       " array([ 259.  ,  291.05,  323.1 ,  355.15,  387.2 ,  419.25,  451.3 ,\n",
       "         483.35,  515.4 ,  547.45,  579.5 ,  611.55,  643.6 ,  675.65,\n",
       "         707.7 ,  739.75,  771.8 ,  803.85,  835.9 ,  867.95,  900.  ]),\n",
       " <a list of 20 Patch objects>)"
      ]
     },
     "execution_count": 461,
     "metadata": {},
     "output_type": "execute_result"
    },
    {
     "data": {
      "image/png": "[encoded data removed]",
      "text/plain": [
       "<matplotlib.figure.Figure at 0x11c6c5410>"
      ]
     },
     "metadata": {},
     "output_type": "display_data"
    }
   ],
   "source": [
    "plt.hist(ratings,20)"
   ]
  },
  {
   "cell_type": "code",
   "execution_count": 464,
   "metadata": {
    "collapsed": false
   },
   "outputs": [
    {
     "name": "stderr",
     "output_type": "stream",
     "text": [
      "/usr/local/lib/python2.7/site-packages/ipykernel/__main__.py:18: SettingWithCopyWarning: \n",
      "A value is trying to be set on a copy of a slice from a DataFrame\n",
      "\n",
      "See the caveats in the documentation: http://pandas.pydata.org/pandas-docs/stable/indexing.html#indexing-view-versus-copy\n",
      "/usr/local/lib/python2.7/site-packages/ipykernel/__main__.py:15: SettingWithCopyWarning: \n",
      "A value is trying to be set on a copy of a slice from a DataFrame\n",
      "\n",
      "See the caveats in the documentation: http://pandas.pydata.org/pandas-docs/stable/indexing.html#indexing-view-versus-copy\n",
      "/usr/local/lib/python2.7/site-packages/ipykernel/__main__.py:12: SettingWithCopyWarning: \n",
      "A value is trying to be set on a copy of a slice from a DataFrame\n",
      "\n",
      "See the caveats in the documentation: http://pandas.pydata.org/pandas-docs/stable/indexing.html#indexing-view-versus-copy\n",
      "/usr/local/lib/python2.7/site-packages/ipykernel/__main__.py:21: SettingWithCopyWarning: \n",
      "A value is trying to be set on a copy of a slice from a DataFrame\n",
      "\n",
      "See the caveats in the documentation: http://pandas.pydata.org/pandas-docs/stable/indexing.html#indexing-view-versus-copy\n",
      "/usr/local/lib/python2.7/site-packages/ipykernel/__main__.py:9: SettingWithCopyWarning: \n",
      "A value is trying to be set on a copy of a slice from a DataFrame\n",
      "\n",
      "See the caveats in the documentation: http://pandas.pydata.org/pandas-docs/stable/indexing.html#indexing-view-versus-copy\n"
     ]
    }
   ],
   "source": [
    "ratings_colors = []\n",
    "cols = sns.diverging_palette(260, 20, n=4)\n",
    "\n",
    "sns.light_palette(\"red\")\n",
    "finaldf[\"RatingGroup\"] = 0\n",
    "for i in finaldf.index:\n",
    "    if finaldf[\"Rating points\"][i] <= per_25:\n",
    "        ratings_colors.append(cols[0])\n",
    "        finaldf[\"RatingGroup\"][i] = 0\n",
    "    elif finaldf[\"Rating points\"][i] <= median:\n",
    "        ratings_colors.append(cols[1])\n",
    "        finaldf[\"RatingGroup\"][i] = 1\n",
    "    elif finaldf[\"Rating points\"][i] <= per_75:\n",
    "        ratings_colors.append(cols[2])\n",
    "        finaldf[\"RatingGroup\"][i] = 2\n",
    "    elif finaldf[\"Rating points\"][i] > per_75:\n",
    "        ratings_colors.append(cols[3])\n",
    "        finaldf[\"RatingGroup\"][i] = 3\n",
    "    else:\n",
    "        ratings_colors.append([(0,0,0)])\n",
    "        finaldf[\"RatingGroup\"][i] = 4\n",
    "\n",
    "\n",
    "\n",
    "\n"
   ]
  },
  {
   "cell_type": "code",
   "execution_count": 465,
   "metadata": {
    "collapsed": false
   },
   "outputs": [
    {
     "name": "stdout",
     "output_type": "stream",
     "text": [
      "0\n",
      "1\n",
      "2\n",
      "3\n"
     ]
    },
    {
     "data": {
      "text/plain": [
       "<matplotlib.legend.Legend at 0x11281dd90>"
      ]
     },
     "execution_count": 465,
     "metadata": {},
     "output_type": "execute_result"
    },
    {
     "data": {
      "image/png": "[encoded data removed]",
      "text/plain": [
       "<matplotlib.figure.Figure at 0x112887810>"
      ]
     },
     "metadata": {},
     "output_type": "display_data"
    }
   ],
   "source": [
    "fig = plt.gcf()\n",
    "fig.set_size_inches(18.5, 10.5)\n",
    "\n",
    "x = tsnew[:,0]\n",
    "y = tsnew[:,1]\n",
    "#plt.scatter(x,y)\n",
    "#plt.text(x,y,finaldf.Namea)\n",
    "\n",
    "\n",
    "plot_df = finaldf\n",
    "plot_df[\"x\"] = x\n",
    "plot_df[\"y\"] = y\n",
    "\n",
    "for i in range(4):\n",
    "    print i\n",
    "    intdf = plot_df[plot_df[\"RatingGroup\"]==i]\n",
    "    plt.scatter(intdf.x,intdf.y,color = cols[i], s = 80 )\n",
    "\n",
    "\n",
    "# for i, txt in enumerate(files):\n",
    "#     #plt.annotate(finaldf.Name[i], (x[i],y[i]))\n",
    "#     plt.scatter(x[i],y[i],color = col_dict[finaldf[\"Political Party\"][i]], s = 80 )\n",
    "\n",
    "plt.legend([\"Lower25\",\"Mid-Lower25\",\"Mid-Upper25\",\"Upper25\"])"
   ]
  },
  {
   "cell_type": "code",
   "execution_count": 421,
   "metadata": {
    "collapsed": false
   },
   "outputs": [
    {
     "data": {
      "image/png": "[encoded data removed]",
      "text/plain": [
       "<matplotlib.figure.Figure at 0x11c3a7710>"
      ]
     },
     "metadata": {},
     "output_type": "display_data"
    }
   ],
   "source": [
    "sns.palplot(sns.diverging_palette(260, 20, n=4))"
   ]
  },
  {
   "cell_type": "markdown",
   "metadata": {},
   "source": [
    "##### "
   ]
  },
  {
   "cell_type": "code",
   "execution_count": 425,
   "metadata": {
    "collapsed": true
   },
   "outputs": [],
   "source": [
    "cols"
   ]
  },
  {
   "cell_type": "code",
   "execution_count": null,
   "metadata": {
    "collapsed": true
   },
   "outputs": [],
   "source": []
  }
 ],
 "metadata": {
  "kernelspec": {
   "display_name": "Python 2",
   "language": "python",
   "name": "python2"
  },
  "language_info": {
   "codemirror_mode": {
    "name": "ipython",
    "version": 2
   },
   "file_extension": ".py",
   "mimetype": "text/x-python",
   "name": "python",
   "nbconvert_exporter": "python",
   "pygments_lexer": "ipython2",
   "version": "2.7.11"
  }
 },
 "nbformat": 4,
 "nbformat_minor": 0
}
