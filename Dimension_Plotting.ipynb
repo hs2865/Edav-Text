{
 "cells": [
  {
   "cell_type": "code",
   "execution_count": 166,
   "metadata": {
    "collapsed": false
   },
   "outputs": [],
   "source": [
    "%matplotlib inline\n",
    "import os\n",
    "import nltk\n",
    "import numpy as np\n",
    "from sklearn.feature_extraction.text import CountVectorizer\n",
    "from os import listdir\n",
    "from os.path import isfile, join\n",
    "import seaborn as sns\n",
    "import pandas as pd\n",
    "from sklearn import decomposition\n",
    "from sklearn.manifold import TSNE\n",
    "import matplotlib.pylab as plt\n",
    "sns.set_style(\"whitegrid\")\n"
   ]
  },
  {
   "cell_type": "code",
   "execution_count": null,
   "metadata": {
    "collapsed": false
   },
   "outputs": [],
   "source": []
  },
  {
   "cell_type": "code",
   "execution_count": 2,
   "metadata": {
    "collapsed": false
   },
   "outputs": [],
   "source": [
    "source = \"/Users/bobminnich/Documents/Columbia/Courses/DataVisualization/Edav-Text/source\"\n",
    "files = [f for f in listdir(source) if isfile(join(source, f))]\n",
    "filenames_with_path = []\n",
    "for i in files:\n",
    "    filenames_with_path.append(source+ \"/\" + i)\n"
   ]
  },
  {
   "cell_type": "code",
   "execution_count": 3,
   "metadata": {
    "collapsed": false
   },
   "outputs": [
    {
     "data": {
      "text/plain": [
       "224"
      ]
     },
     "execution_count": 3,
     "metadata": {},
     "output_type": "execute_result"
    }
   ],
   "source": [
    "len(files)"
   ]
  },
  {
   "cell_type": "code",
   "execution_count": 96,
   "metadata": {
    "collapsed": false
   },
   "outputs": [],
   "source": [
    "raw_texts = []\n",
    "for fn in filenames_with_path:\n",
    "    with open(fn) as f:\n",
    "        text = f.read()\n",
    "        text = text.replace('_', '')  # remove underscores (italics)\n",
    "        raw_texts.append(text)"
   ]
  },
  {
   "cell_type": "code",
   "execution_count": 190,
   "metadata": {
    "collapsed": false
   },
   "outputs": [],
   "source": [
    "raw_texts = []\n",
    "raw_texts_out = []\n",
    "\n",
    "\n",
    "for fn in filenames_with_path:\n",
    "    check = fn.split(\"/\")[-1].split(\"_\")[0]\n",
    "    with open(fn) as f:\n",
    "        begin = 0\n",
    "        raw_texts = []\n",
    "        for line in f:\n",
    "            #print line\n",
    "            line.replace(\"000\",\"\")\n",
    "            if begin == 1:\n",
    "                raw_texts.append((line))\n",
    "            else:\n",
    "                if check in line.lower():\n",
    "                    raw_texts.append(\"\")\n",
    "                    begin = 1\n",
    "    raw_texts_out.append(' '.join(raw_texts))\n",
    "#         text = f.read()\n",
    "#         text = text.replace('_', '')  # remove underscores (italics)\n",
    "#         "
   ]
  },
  {
   "cell_type": "code",
   "execution_count": 191,
   "metadata": {
    "collapsed": false
   },
   "outputs": [],
   "source": [
    "vectorizer = CountVectorizer(input='content', stop_words=\"english\")"
   ]
  },
  {
   "cell_type": "code",
   "execution_count": 192,
   "metadata": {
    "collapsed": false
   },
   "outputs": [],
   "source": [
    "dtm = vectorizer.fit_transform(raw_texts_out)"
   ]
  },
  {
   "cell_type": "code",
   "execution_count": 193,
   "metadata": {
    "collapsed": true
   },
   "outputs": [],
   "source": [
    "vocab = np.array(vectorizer.get_feature_names())"
   ]
  },
  {
   "cell_type": "code",
   "execution_count": 194,
   "metadata": {
    "collapsed": true
   },
   "outputs": [],
   "source": [
    "dtm = dtm.toarray()"
   ]
  },
  {
   "cell_type": "code",
   "execution_count": 195,
   "metadata": {
    "collapsed": false
   },
   "outputs": [],
   "source": [
    "rates = 1000 * dtm / np.sum(dtm, axis=1, keepdims=True)"
   ]
  },
  {
   "cell_type": "code",
   "execution_count": 196,
   "metadata": {
    "collapsed": true
   },
   "outputs": [],
   "source": [
    "df = pd.DataFrame(dtm)"
   ]
  },
  {
   "cell_type": "code",
   "execution_count": 197,
   "metadata": {
    "collapsed": false
   },
   "outputs": [],
   "source": [
    "df.columns = vocab"
   ]
  },
  {
   "cell_type": "code",
   "execution_count": 273,
   "metadata": {
    "collapsed": false
   },
   "outputs": [
    {
     "data": {
      "text/html": [
       "<div>\n",
       "<table border=\"1\" class=\"dataframe\">\n",
       "  <thead>\n",
       "    <tr style=\"text-align: right;\">\n",
       "      <th></th>\n",
       "      <th>name</th>\n",
       "      <th>MD</th>\n",
       "      <th>year</th>\n",
       "      <th>File</th>\n",
       "    </tr>\n",
       "  </thead>\n",
       "  <tbody>\n",
       "    <tr>\n",
       "      <th>0</th>\n",
       "      <td>George Washington</td>\n",
       "      <td>January 8</td>\n",
       "      <td>1790</td>\n",
       "      <td>1790_December_8.txt</td>\n",
       "    </tr>\n",
       "    <tr>\n",
       "      <th>1</th>\n",
       "      <td>George Washington</td>\n",
       "      <td>December 8</td>\n",
       "      <td>1790</td>\n",
       "      <td>1790_January_8.txt</td>\n",
       "    </tr>\n",
       "    <tr>\n",
       "      <th>2</th>\n",
       "      <td>George Washington</td>\n",
       "      <td>October 25</td>\n",
       "      <td>1791</td>\n",
       "      <td>1791_October_25.txt</td>\n",
       "    </tr>\n",
       "    <tr>\n",
       "      <th>3</th>\n",
       "      <td>George Washington</td>\n",
       "      <td>November 6</td>\n",
       "      <td>1792</td>\n",
       "      <td>1792_November_6.txt</td>\n",
       "    </tr>\n",
       "    <tr>\n",
       "      <th>4</th>\n",
       "      <td>George Washington</td>\n",
       "      <td>December 3</td>\n",
       "      <td>1793</td>\n",
       "      <td>1793_December_3.txt</td>\n",
       "    </tr>\n",
       "    <tr>\n",
       "      <th>5</th>\n",
       "      <td>George Washington</td>\n",
       "      <td>November 19</td>\n",
       "      <td>1794</td>\n",
       "      <td>1794_November_19.txt</td>\n",
       "    </tr>\n",
       "    <tr>\n",
       "      <th>6</th>\n",
       "      <td>George Washington</td>\n",
       "      <td>December 8</td>\n",
       "      <td>1795</td>\n",
       "      <td>1795_December_8.txt</td>\n",
       "    </tr>\n",
       "    <tr>\n",
       "      <th>7</th>\n",
       "      <td>George Washington</td>\n",
       "      <td>December 7</td>\n",
       "      <td>1796</td>\n",
       "      <td>1796_December_7.txt</td>\n",
       "    </tr>\n",
       "    <tr>\n",
       "      <th>8</th>\n",
       "      <td>John Adams</td>\n",
       "      <td>November 22</td>\n",
       "      <td>1797</td>\n",
       "      <td>1797_November_22.txt</td>\n",
       "    </tr>\n",
       "    <tr>\n",
       "      <th>9</th>\n",
       "      <td>John Adams</td>\n",
       "      <td>December 8</td>\n",
       "      <td>1798</td>\n",
       "      <td>1798_December_8.txt</td>\n",
       "    </tr>\n",
       "    <tr>\n",
       "      <th>10</th>\n",
       "      <td>John Adams</td>\n",
       "      <td>December 3</td>\n",
       "      <td>1799</td>\n",
       "      <td>1799_December_3.txt</td>\n",
       "    </tr>\n",
       "    <tr>\n",
       "      <th>11</th>\n",
       "      <td>John Adams</td>\n",
       "      <td>November 11</td>\n",
       "      <td>1800</td>\n",
       "      <td>1800_November_11.txt</td>\n",
       "    </tr>\n",
       "    <tr>\n",
       "      <th>12</th>\n",
       "      <td>Thomas Jefferson</td>\n",
       "      <td>December 8</td>\n",
       "      <td>1801</td>\n",
       "      <td>1801_December_8.txt</td>\n",
       "    </tr>\n",
       "    <tr>\n",
       "      <th>13</th>\n",
       "      <td>Thomas Jefferson</td>\n",
       "      <td>December 15</td>\n",
       "      <td>1802</td>\n",
       "      <td>1802_December_15.txt</td>\n",
       "    </tr>\n",
       "    <tr>\n",
       "      <th>14</th>\n",
       "      <td>Thomas Jefferson</td>\n",
       "      <td>October 17</td>\n",
       "      <td>1803</td>\n",
       "      <td>1803_October_17.txt</td>\n",
       "    </tr>\n",
       "    <tr>\n",
       "      <th>15</th>\n",
       "      <td>Thomas Jefferson</td>\n",
       "      <td>November 8</td>\n",
       "      <td>1804</td>\n",
       "      <td>1804_November_8.txt</td>\n",
       "    </tr>\n",
       "    <tr>\n",
       "      <th>16</th>\n",
       "      <td>Thomas Jefferson</td>\n",
       "      <td>December 3</td>\n",
       "      <td>1805</td>\n",
       "      <td>1805_December_3.txt</td>\n",
       "    </tr>\n",
       "    <tr>\n",
       "      <th>17</th>\n",
       "      <td>Thomas Jefferson</td>\n",
       "      <td>December 2</td>\n",
       "      <td>1806</td>\n",
       "      <td>1806_December_2.txt</td>\n",
       "    </tr>\n",
       "    <tr>\n",
       "      <th>18</th>\n",
       "      <td>Thomas Jefferson</td>\n",
       "      <td>October 27</td>\n",
       "      <td>1807</td>\n",
       "      <td>1807_October_27.txt</td>\n",
       "    </tr>\n",
       "    <tr>\n",
       "      <th>19</th>\n",
       "      <td>Thomas Jefferson</td>\n",
       "      <td>November 8</td>\n",
       "      <td>1808</td>\n",
       "      <td>1808_November_8.txt</td>\n",
       "    </tr>\n",
       "    <tr>\n",
       "      <th>20</th>\n",
       "      <td>James Madison</td>\n",
       "      <td>November 29</td>\n",
       "      <td>1809</td>\n",
       "      <td>1809_November_29.txt</td>\n",
       "    </tr>\n",
       "    <tr>\n",
       "      <th>21</th>\n",
       "      <td>James Madison</td>\n",
       "      <td>December 5</td>\n",
       "      <td>1810</td>\n",
       "      <td>1810_December_5.txt</td>\n",
       "    </tr>\n",
       "    <tr>\n",
       "      <th>22</th>\n",
       "      <td>James Madison</td>\n",
       "      <td>November 5</td>\n",
       "      <td>1811</td>\n",
       "      <td>1811_November_5.txt</td>\n",
       "    </tr>\n",
       "    <tr>\n",
       "      <th>23</th>\n",
       "      <td>James Madison</td>\n",
       "      <td>November 4</td>\n",
       "      <td>1812</td>\n",
       "      <td>1812_November_4.txt</td>\n",
       "    </tr>\n",
       "    <tr>\n",
       "      <th>24</th>\n",
       "      <td>James Madison</td>\n",
       "      <td>December 7</td>\n",
       "      <td>1813</td>\n",
       "      <td>1813_December_7.txt</td>\n",
       "    </tr>\n",
       "    <tr>\n",
       "      <th>25</th>\n",
       "      <td>James Madison</td>\n",
       "      <td>September 20</td>\n",
       "      <td>1814</td>\n",
       "      <td>1814_September_20.txt</td>\n",
       "    </tr>\n",
       "    <tr>\n",
       "      <th>26</th>\n",
       "      <td>James Madison</td>\n",
       "      <td>December 5</td>\n",
       "      <td>1815</td>\n",
       "      <td>1815_December_5.txt</td>\n",
       "    </tr>\n",
       "    <tr>\n",
       "      <th>27</th>\n",
       "      <td>James Madison</td>\n",
       "      <td>December 3</td>\n",
       "      <td>1816</td>\n",
       "      <td>1816_December_3.txt</td>\n",
       "    </tr>\n",
       "    <tr>\n",
       "      <th>28</th>\n",
       "      <td>James Monroe</td>\n",
       "      <td>December 12</td>\n",
       "      <td>1817</td>\n",
       "      <td>1817_December_12.txt</td>\n",
       "    </tr>\n",
       "    <tr>\n",
       "      <th>29</th>\n",
       "      <td>James Monroe</td>\n",
       "      <td>November 16</td>\n",
       "      <td>1818</td>\n",
       "      <td>1818_November_16.txt</td>\n",
       "    </tr>\n",
       "    <tr>\n",
       "      <th>...</th>\n",
       "      <td>...</td>\n",
       "      <td>...</td>\n",
       "      <td>...</td>\n",
       "      <td>...</td>\n",
       "    </tr>\n",
       "    <tr>\n",
       "      <th>194</th>\n",
       "      <td>Ronald Reagan</td>\n",
       "      <td>February 4</td>\n",
       "      <td>1986</td>\n",
       "      <td>1986_February_4.txt</td>\n",
       "    </tr>\n",
       "    <tr>\n",
       "      <th>195</th>\n",
       "      <td>Ronald Reagan</td>\n",
       "      <td>January 27</td>\n",
       "      <td>1987</td>\n",
       "      <td>1987_January_27.txt</td>\n",
       "    </tr>\n",
       "    <tr>\n",
       "      <th>196</th>\n",
       "      <td>Ronald Reagan</td>\n",
       "      <td>January 25</td>\n",
       "      <td>1988</td>\n",
       "      <td>1988_January_25.txt</td>\n",
       "    </tr>\n",
       "    <tr>\n",
       "      <th>197</th>\n",
       "      <td>George H.W. Bush</td>\n",
       "      <td>January 31</td>\n",
       "      <td>1990</td>\n",
       "      <td>1990_January_31.txt</td>\n",
       "    </tr>\n",
       "    <tr>\n",
       "      <th>198</th>\n",
       "      <td>George H.W. Bush</td>\n",
       "      <td>January 29</td>\n",
       "      <td>1991</td>\n",
       "      <td>1991_January_29.txt</td>\n",
       "    </tr>\n",
       "    <tr>\n",
       "      <th>199</th>\n",
       "      <td>George H.W. Bush</td>\n",
       "      <td>January 28</td>\n",
       "      <td>1992</td>\n",
       "      <td>1992_January_28.txt</td>\n",
       "    </tr>\n",
       "    <tr>\n",
       "      <th>200</th>\n",
       "      <td>William J. Clinton</td>\n",
       "      <td>January 25</td>\n",
       "      <td>1994</td>\n",
       "      <td>1994_January_25.txt</td>\n",
       "    </tr>\n",
       "    <tr>\n",
       "      <th>201</th>\n",
       "      <td>William J. Clinton</td>\n",
       "      <td>January 24</td>\n",
       "      <td>1995</td>\n",
       "      <td>1995_January_24.txt</td>\n",
       "    </tr>\n",
       "    <tr>\n",
       "      <th>202</th>\n",
       "      <td>William J. Clinton</td>\n",
       "      <td>January 23</td>\n",
       "      <td>1996</td>\n",
       "      <td>1996_January_23.txt</td>\n",
       "    </tr>\n",
       "    <tr>\n",
       "      <th>203</th>\n",
       "      <td>William J. Clinton</td>\n",
       "      <td>February 4</td>\n",
       "      <td>1997</td>\n",
       "      <td>1997_February_4.txt</td>\n",
       "    </tr>\n",
       "    <tr>\n",
       "      <th>204</th>\n",
       "      <td>William J. Clinton</td>\n",
       "      <td>January 27</td>\n",
       "      <td>1998</td>\n",
       "      <td>1998_January_27.txt</td>\n",
       "    </tr>\n",
       "    <tr>\n",
       "      <th>205</th>\n",
       "      <td>William J. Clinton</td>\n",
       "      <td>January 19</td>\n",
       "      <td>1999</td>\n",
       "      <td>1999_January_19.txt</td>\n",
       "    </tr>\n",
       "    <tr>\n",
       "      <th>206</th>\n",
       "      <td>William J. Clinton</td>\n",
       "      <td>January 27</td>\n",
       "      <td>2000</td>\n",
       "      <td>2000_January_27.txt</td>\n",
       "    </tr>\n",
       "    <tr>\n",
       "      <th>207</th>\n",
       "      <td>George W. Bush</td>\n",
       "      <td>February 27</td>\n",
       "      <td>2001</td>\n",
       "      <td>2001_February_27.txt</td>\n",
       "    </tr>\n",
       "    <tr>\n",
       "      <th>208</th>\n",
       "      <td>George W. Bush</td>\n",
       "      <td>September 20</td>\n",
       "      <td>2001</td>\n",
       "      <td>2001_September_20.txt</td>\n",
       "    </tr>\n",
       "    <tr>\n",
       "      <th>209</th>\n",
       "      <td>George W. Bush</td>\n",
       "      <td>January 29</td>\n",
       "      <td>2002</td>\n",
       "      <td>2002_January_29.txt</td>\n",
       "    </tr>\n",
       "    <tr>\n",
       "      <th>210</th>\n",
       "      <td>George W. Bush</td>\n",
       "      <td>January 28</td>\n",
       "      <td>2003</td>\n",
       "      <td>2003_January_28.txt</td>\n",
       "    </tr>\n",
       "    <tr>\n",
       "      <th>211</th>\n",
       "      <td>George W. Bush</td>\n",
       "      <td>January 20</td>\n",
       "      <td>2004</td>\n",
       "      <td>2004_January_20.txt</td>\n",
       "    </tr>\n",
       "    <tr>\n",
       "      <th>212</th>\n",
       "      <td>George W. Bush</td>\n",
       "      <td>February 2</td>\n",
       "      <td>2005</td>\n",
       "      <td>2005_February_2.txt</td>\n",
       "    </tr>\n",
       "    <tr>\n",
       "      <th>213</th>\n",
       "      <td>George W. Bush</td>\n",
       "      <td>January 31</td>\n",
       "      <td>2006</td>\n",
       "      <td>2006_January_31.txt</td>\n",
       "    </tr>\n",
       "    <tr>\n",
       "      <th>214</th>\n",
       "      <td>George W. Bush</td>\n",
       "      <td>January 23</td>\n",
       "      <td>2007</td>\n",
       "      <td>2007_January_23.txt</td>\n",
       "    </tr>\n",
       "    <tr>\n",
       "      <th>215</th>\n",
       "      <td>George W. Bush</td>\n",
       "      <td>January 28</td>\n",
       "      <td>2008</td>\n",
       "      <td>2008_January_28.txt</td>\n",
       "    </tr>\n",
       "    <tr>\n",
       "      <th>216</th>\n",
       "      <td>Barack Obama</td>\n",
       "      <td>February 24</td>\n",
       "      <td>2009</td>\n",
       "      <td>2009_February_24.txt</td>\n",
       "    </tr>\n",
       "    <tr>\n",
       "      <th>217</th>\n",
       "      <td>Barack Obama</td>\n",
       "      <td>January 27</td>\n",
       "      <td>2010</td>\n",
       "      <td>2010_January_27.txt</td>\n",
       "    </tr>\n",
       "    <tr>\n",
       "      <th>218</th>\n",
       "      <td>Barack Obama</td>\n",
       "      <td>January 25</td>\n",
       "      <td>2011</td>\n",
       "      <td>2011_January_25.txt</td>\n",
       "    </tr>\n",
       "    <tr>\n",
       "      <th>219</th>\n",
       "      <td>Barack Obama</td>\n",
       "      <td>January 24</td>\n",
       "      <td>2012</td>\n",
       "      <td>2012_January_24.txt</td>\n",
       "    </tr>\n",
       "    <tr>\n",
       "      <th>220</th>\n",
       "      <td>Barack Obama</td>\n",
       "      <td>February 12</td>\n",
       "      <td>2013</td>\n",
       "      <td>2013_February_12.txt</td>\n",
       "    </tr>\n",
       "    <tr>\n",
       "      <th>221</th>\n",
       "      <td>Barack Obama</td>\n",
       "      <td>January 28</td>\n",
       "      <td>2014</td>\n",
       "      <td>2014_January_28.txt</td>\n",
       "    </tr>\n",
       "    <tr>\n",
       "      <th>222</th>\n",
       "      <td>Barack Obama</td>\n",
       "      <td>January 20</td>\n",
       "      <td>2015</td>\n",
       "      <td>2015_January_20.txt</td>\n",
       "    </tr>\n",
       "    <tr>\n",
       "      <th>223</th>\n",
       "      <td>Barack Obama</td>\n",
       "      <td>January 12</td>\n",
       "      <td>2016</td>\n",
       "      <td>2016_January_12.txt</td>\n",
       "    </tr>\n",
       "  </tbody>\n",
       "</table>\n",
       "<p>224 rows × 4 columns</p>\n",
       "</div>"
      ],
      "text/plain": [
       "                   name             MD  year                   File\n",
       "0     George Washington      January 8  1790    1790_December_8.txt\n",
       "1     George Washington     December 8  1790     1790_January_8.txt\n",
       "2     George Washington     October 25  1791    1791_October_25.txt\n",
       "3     George Washington     November 6  1792    1792_November_6.txt\n",
       "4     George Washington     December 3  1793    1793_December_3.txt\n",
       "5     George Washington    November 19  1794   1794_November_19.txt\n",
       "6     George Washington     December 8  1795    1795_December_8.txt\n",
       "7     George Washington     December 7  1796    1796_December_7.txt\n",
       "8            John Adams    November 22  1797   1797_November_22.txt\n",
       "9            John Adams     December 8  1798    1798_December_8.txt\n",
       "10           John Adams     December 3  1799    1799_December_3.txt\n",
       "11           John Adams    November 11  1800   1800_November_11.txt\n",
       "12     Thomas Jefferson     December 8  1801    1801_December_8.txt\n",
       "13     Thomas Jefferson    December 15  1802   1802_December_15.txt\n",
       "14     Thomas Jefferson     October 17  1803    1803_October_17.txt\n",
       "15     Thomas Jefferson     November 8  1804    1804_November_8.txt\n",
       "16     Thomas Jefferson     December 3  1805    1805_December_3.txt\n",
       "17     Thomas Jefferson     December 2  1806    1806_December_2.txt\n",
       "18     Thomas Jefferson     October 27  1807    1807_October_27.txt\n",
       "19     Thomas Jefferson     November 8  1808    1808_November_8.txt\n",
       "20        James Madison    November 29  1809   1809_November_29.txt\n",
       "21        James Madison     December 5  1810    1810_December_5.txt\n",
       "22        James Madison     November 5  1811    1811_November_5.txt\n",
       "23        James Madison     November 4  1812    1812_November_4.txt\n",
       "24        James Madison     December 7  1813    1813_December_7.txt\n",
       "25        James Madison   September 20  1814  1814_September_20.txt\n",
       "26        James Madison     December 5  1815    1815_December_5.txt\n",
       "27        James Madison     December 3  1816    1816_December_3.txt\n",
       "28         James Monroe    December 12  1817   1817_December_12.txt\n",
       "29         James Monroe    November 16  1818   1818_November_16.txt\n",
       "..                  ...            ...   ...                    ...\n",
       "194       Ronald Reagan     February 4  1986    1986_February_4.txt\n",
       "195       Ronald Reagan     January 27  1987    1987_January_27.txt\n",
       "196       Ronald Reagan     January 25  1988    1988_January_25.txt\n",
       "197    George H.W. Bush     January 31  1990    1990_January_31.txt\n",
       "198    George H.W. Bush     January 29  1991    1991_January_29.txt\n",
       "199    George H.W. Bush     January 28  1992    1992_January_28.txt\n",
       "200  William J. Clinton     January 25  1994    1994_January_25.txt\n",
       "201  William J. Clinton     January 24  1995    1995_January_24.txt\n",
       "202  William J. Clinton     January 23  1996    1996_January_23.txt\n",
       "203  William J. Clinton     February 4  1997    1997_February_4.txt\n",
       "204  William J. Clinton     January 27  1998    1998_January_27.txt\n",
       "205  William J. Clinton     January 19  1999    1999_January_19.txt\n",
       "206  William J. Clinton     January 27  2000    2000_January_27.txt\n",
       "207      George W. Bush    February 27  2001   2001_February_27.txt\n",
       "208      George W. Bush   September 20  2001  2001_September_20.txt\n",
       "209      George W. Bush     January 29  2002    2002_January_29.txt\n",
       "210      George W. Bush     January 28  2003    2003_January_28.txt\n",
       "211      George W. Bush     January 20  2004    2004_January_20.txt\n",
       "212      George W. Bush     February 2  2005    2005_February_2.txt\n",
       "213      George W. Bush     January 31  2006    2006_January_31.txt\n",
       "214      George W. Bush     January 23  2007    2007_January_23.txt\n",
       "215      George W. Bush     January 28  2008    2008_January_28.txt\n",
       "216        Barack Obama    February 24  2009   2009_February_24.txt\n",
       "217        Barack Obama     January 27  2010    2010_January_27.txt\n",
       "218        Barack Obama     January 25  2011    2011_January_25.txt\n",
       "219        Barack Obama     January 24  2012    2012_January_24.txt\n",
       "220        Barack Obama    February 12  2013   2013_February_12.txt\n",
       "221        Barack Obama     January 28  2014    2014_January_28.txt\n",
       "222        Barack Obama     January 20  2015    2015_January_20.txt\n",
       "223        Barack Obama     January 12  2016    2016_January_12.txt\n",
       "\n",
       "[224 rows x 4 columns]"
      ]
     },
     "execution_count": 273,
     "metadata": {},
     "output_type": "execute_result"
    }
   ],
   "source": [
    "toc"
   ]
  },
  {
   "cell_type": "code",
   "execution_count": 346,
   "metadata": {
    "collapsed": false
   },
   "outputs": [
    {
     "name": "stdout",
     "output_type": "stream",
     "text": [
      "George Washington\n",
      "John Adams\n",
      "Thomas Jefferson\n",
      "James Madison\n",
      "James Monroe\n",
      "John Quincy Adams\n",
      "Andrew Jackson\n",
      "Martin Van Buren \n",
      "William Henry Harrison\n",
      "John Tyler\n",
      "James K. Polk\n",
      "Zachary Taylor\n",
      "Millard Fillmore\n",
      "Franklin Pierce\n",
      "James Buchanan\n",
      "Abraham Lincoln\n",
      "Andrew Johnson\n",
      "Ulysses S. Grant\n",
      "Rutherford B. Hayes\n",
      "James A. Garfield\n",
      "Chester A. Arthur\n",
      "Grover Cleveland\n",
      "Benjamin Harrison\n",
      "Grover Cleveland\n",
      "William McKinley\n",
      "Theodore Roosevelt\n",
      "William H. Taft\n",
      "Woodrow Wilson\n",
      "Warren Harding\n",
      "Calvin Coolidge\n",
      "Herbert Hoover\n",
      "Franklin D. Roosevelt\n",
      "Harry S. Truman\n",
      "Dwight D. Eisenhower\n",
      "John F. Kennedy\n",
      "Lyndon B. Johnson\n",
      "Richard Nixon\n",
      "Gerald R. Ford\n",
      "Jimmy Carter\n",
      "Ronald Reagan\n",
      "George H.W. Bush\n",
      "William J. Clinton\n",
      "George W. Bush\n",
      "Barack Obama\n"
     ]
    }
   ],
   "source": [
    "for i in pres_df.name:\n",
    "    print i"
   ]
  },
  {
   "cell_type": "code",
   "execution_count": 353,
   "metadata": {
    "collapsed": false
   },
   "outputs": [],
   "source": [
    "pres_df = pd.read_csv(\"PresidentInfo.csv\")\n",
    "a = list(pres_df.columns)\n",
    "a[2] = \"year\"\n",
    "a[0] = \"name\"\n",
    "pres_df.columns = a\n",
    "pres_df.name = pres_df.name.str.replace(\"George Bush\",\"George H.W. Bush\")\n",
    "pres_df.name = pres_df.name.str.replace(\"Bill Clinton\",\"William J. Clinton\")\n",
    "pres_df.name = pres_df.name.str.replace(\"George Bush\",\"George H.W. Bush\")\n",
    "pres_df.name = pres_df.name.str.replace(\"William Howard Taft\",\"William H. Taft\")\n",
    "pres_df.name = pres_df.name.str.replace(\"Warren G. Harding\",\"Warren Harding\")\n",
    "pres_df.name = pres_df.name.str.replace(\"Franklin Roosevelt\",\"Franklin D. Roosevelt\")\n",
    "pres_df.name = pres_df.name.str.replace(\"Richard M. Nixon\",\"Richard Nixon\")\n",
    "pres_df.name = pres_df.name.str.replace(\"Gerald Ford\",\"Gerald R. Ford\")\n",
    "pres_df.name = pres_df.name.str.replace(\"Martin Van Buren \",\"Martin van Buren\")\n",
    "pres_df.name = pres_df.name.str.replace(\"James K. Polk\",\"James Polk\")\n",
    "\n",
    "\n",
    "\n",
    "\n",
    "\n",
    "\n",
    "\n",
    "\n",
    "\n",
    "\n",
    "toc = pd.read_csv(\"table_of_contents.txt\", header=-1)\n",
    "toc[\"file\"] = files\n",
    "toc.columns = [\"name\",\"speech\",\"MD\",\"year\", \"File\"]\n",
    "toc = toc.drop(\"speech\",1)\n",
    "finaldf = pd.merge(toc,pres_df ,how=\"left\",on=[\"name\"])\n",
    "finaldf = finaldf[finaldf.File.duplicated() == False]\n",
    "#finaldf.to_csv(\"President_Info2.csv\")"
   ]
  },
  {
   "cell_type": "code",
   "execution_count": 354,
   "metadata": {
    "collapsed": false
   },
   "outputs": [
    {
     "data": {
      "text/plain": [
       "Index([u'name', u'MD', u'year_x', u'File', u'Years in office', u'year_y',\n",
       "       u'Age at inauguration', u'State elected from', u'# of electoral votes',\n",
       "       u' # of popular votes ', u' National total votes ',\n",
       "       u'Total electoral votes', u'Rating points', u'Political Party',\n",
       "       u'Occupation', u'College', u'% electoral', u'% popular'],\n",
       "      dtype='object')"
      ]
     },
     "execution_count": 354,
     "metadata": {},
     "output_type": "execute_result"
    }
   ],
   "source": [
    "finaldf.columns"
   ]
  },
  {
   "cell_type": "markdown",
   "metadata": {},
   "source": [
    "# Create Color Codes"
   ]
  },
  {
   "cell_type": "code",
   "execution_count": 355,
   "metadata": {
    "collapsed": false
   },
   "outputs": [
    {
     "name": "stdout",
     "output_type": "stream",
     "text": [
      "                      name        Political Party\n",
      "0        George Washington                   None\n",
      "1        George Washington                   None\n",
      "2        George Washington                   None\n",
      "3        George Washington                   None\n",
      "4        George Washington                   None\n",
      "5        George Washington                   None\n",
      "6        George Washington                   None\n",
      "7        George Washington                   None\n",
      "8               John Adams             Federalist\n",
      "9               John Adams             Federalist\n",
      "10              John Adams             Federalist\n",
      "11              John Adams             Federalist\n",
      "12        Thomas Jefferson  Democratic-Republican\n",
      "13        Thomas Jefferson  Democratic-Republican\n",
      "14        Thomas Jefferson  Democratic-Republican\n",
      "15        Thomas Jefferson  Democratic-Republican\n",
      "16        Thomas Jefferson  Democratic-Republican\n",
      "17        Thomas Jefferson  Democratic-Republican\n",
      "18        Thomas Jefferson  Democratic-Republican\n",
      "19        Thomas Jefferson  Democratic-Republican\n",
      "20           James Madison  Democratic-Republican\n",
      "21           James Madison  Democratic-Republican\n",
      "22           James Madison  Democratic-Republican\n",
      "23           James Madison  Democratic-Republican\n",
      "24           James Madison  Democratic-Republican\n",
      "25           James Madison  Democratic-Republican\n",
      "26           James Madison  Democratic-Republican\n",
      "27           James Madison  Democratic-Republican\n",
      "28            James Monroe  Democratic-Republican\n",
      "29            James Monroe  Democratic-Republican\n",
      "30            James Monroe  Democratic-Republican\n",
      "31            James Monroe  Democratic-Republican\n",
      "32            James Monroe  Democratic-Republican\n",
      "33            James Monroe  Democratic-Republican\n",
      "34            James Monroe  Democratic-Republican\n",
      "35            James Monroe  Democratic-Republican\n",
      "36       John Quincy Adams  Democratic-Republican\n",
      "37       John Quincy Adams  Democratic-Republican\n",
      "38       John Quincy Adams  Democratic-Republican\n",
      "39       John Quincy Adams  Democratic-Republican\n",
      "40          Andrew Jackson               Democrat\n",
      "41          Andrew Jackson               Democrat\n",
      "42          Andrew Jackson               Democrat\n",
      "43          Andrew Jackson               Democrat\n",
      "44          Andrew Jackson               Democrat\n",
      "45          Andrew Jackson               Democrat\n",
      "46          Andrew Jackson               Democrat\n",
      "47          Andrew Jackson               Democrat\n",
      "48        Martin van Buren               Democrat\n",
      "49        Martin van Buren               Democrat\n",
      "50        Martin van Buren               Democrat\n",
      "51        Martin van Buren               Democrat\n",
      "52              John Tyler                   Whig\n",
      "53              John Tyler                   Whig\n",
      "54              John Tyler                   Whig\n",
      "55              John Tyler                   Whig\n",
      "56              James Polk               Democrat\n",
      "57              James Polk               Democrat\n",
      "58              James Polk               Democrat\n",
      "59              James Polk               Democrat\n",
      "60          Zachary Taylor                   Whig\n",
      "61        Millard Fillmore                   Whig\n",
      "62        Millard Fillmore                   Whig\n",
      "63        Millard Fillmore                   Whig\n",
      "64         Franklin Pierce               Democrat\n",
      "65         Franklin Pierce               Democrat\n",
      "66         Franklin Pierce               Democrat\n",
      "67         Franklin Pierce               Democrat\n",
      "68          James Buchanan               Democrat\n",
      "69          James Buchanan               Democrat\n",
      "70          James Buchanan               Democrat\n",
      "71          James Buchanan               Democrat\n",
      "72         Abraham Lincoln             Republican\n",
      "73         Abraham Lincoln             Republican\n",
      "74         Abraham Lincoln             Republican\n",
      "75         Abraham Lincoln             Republican\n",
      "76          Andrew Johnson         National Union\n",
      "77          Andrew Johnson         National Union\n",
      "78          Andrew Johnson         National Union\n",
      "79          Andrew Johnson         National Union\n",
      "80        Ulysses S. Grant             Republican\n",
      "81        Ulysses S. Grant             Republican\n",
      "82        Ulysses S. Grant             Republican\n",
      "83        Ulysses S. Grant             Republican\n",
      "84        Ulysses S. Grant             Republican\n",
      "85        Ulysses S. Grant             Republican\n",
      "86        Ulysses S. Grant             Republican\n",
      "87        Ulysses S. Grant             Republican\n",
      "88     Rutherford B. Hayes             Republican\n",
      "89     Rutherford B. Hayes             Republican\n",
      "90     Rutherford B. Hayes             Republican\n",
      "91     Rutherford B. Hayes             Republican\n",
      "92       Chester A. Arthur             Republican\n",
      "93       Chester A. Arthur             Republican\n",
      "94       Chester A. Arthur             Republican\n",
      "95       Chester A. Arthur             Republican\n",
      "96        Grover Cleveland               Democrat\n",
      "98        Grover Cleveland               Democrat\n",
      "100       Grover Cleveland               Democrat\n",
      "102       Grover Cleveland               Democrat\n",
      "104      Benjamin Harrison             Republican\n",
      "105      Benjamin Harrison             Republican\n",
      "106      Benjamin Harrison             Republican\n",
      "107      Benjamin Harrison             Republican\n",
      "108       William McKinley             Republican\n",
      "109       William McKinley             Republican\n",
      "110       William McKinley             Republican\n",
      "111       William McKinley             Republican\n",
      "112     Theodore Roosevelt             Republican\n",
      "113     Theodore Roosevelt             Republican\n",
      "114     Theodore Roosevelt             Republican\n",
      "115     Theodore Roosevelt             Republican\n",
      "116     Theodore Roosevelt             Republican\n",
      "117     Theodore Roosevelt             Republican\n",
      "118     Theodore Roosevelt             Republican\n",
      "119     Theodore Roosevelt             Republican\n",
      "120        William H. Taft             Republican\n",
      "121        William H. Taft             Republican\n",
      "122        William H. Taft             Republican\n",
      "123        William H. Taft             Republican\n",
      "124         Woodrow Wilson               Democrat\n",
      "125         Woodrow Wilson               Democrat\n",
      "126         Woodrow Wilson               Democrat\n",
      "127         Woodrow Wilson               Democrat\n",
      "128         Woodrow Wilson               Democrat\n",
      "129         Woodrow Wilson               Democrat\n",
      "130         Woodrow Wilson               Democrat\n",
      "131         Woodrow Wilson               Democrat\n",
      "132         Warren Harding             Republican\n",
      "133         Warren Harding             Republican\n",
      "134        Calvin Coolidge             Republican\n",
      "135        Calvin Coolidge             Republican\n",
      "136        Calvin Coolidge             Republican\n",
      "137        Calvin Coolidge             Republican\n",
      "138        Calvin Coolidge             Republican\n",
      "139        Calvin Coolidge             Republican\n",
      "140         Herbert Hoover             Republican\n",
      "141         Herbert Hoover             Republican\n",
      "142         Herbert Hoover             Republican\n",
      "143         Herbert Hoover             Republican\n",
      "144  Franklin D. Roosevelt               Democrat\n",
      "145  Franklin D. Roosevelt               Democrat\n",
      "146  Franklin D. Roosevelt               Democrat\n",
      "147  Franklin D. Roosevelt               Democrat\n",
      "148  Franklin D. Roosevelt               Democrat\n",
      "149  Franklin D. Roosevelt               Democrat\n",
      "150  Franklin D. Roosevelt               Democrat\n",
      "151  Franklin D. Roosevelt               Democrat\n",
      "152  Franklin D. Roosevelt               Democrat\n",
      "153  Franklin D. Roosevelt               Democrat\n",
      "154  Franklin D. Roosevelt               Democrat\n",
      "155  Franklin D. Roosevelt               Democrat\n",
      "156        Harry S. Truman               Democrat\n",
      "157        Harry S. Truman               Democrat\n",
      "158        Harry S. Truman               Democrat\n",
      "159        Harry S. Truman               Democrat\n",
      "160        Harry S. Truman               Democrat\n",
      "161        Harry S. Truman               Democrat\n",
      "162        Harry S. Truman               Democrat\n",
      "163        Harry S. Truman               Democrat\n",
      "164   Dwight D. Eisenhower             Republican\n",
      "165   Dwight D. Eisenhower             Republican\n",
      "166   Dwight D. Eisenhower             Republican\n",
      "167   Dwight D. Eisenhower             Republican\n",
      "168   Dwight D. Eisenhower             Republican\n",
      "169   Dwight D. Eisenhower             Republican\n",
      "170   Dwight D. Eisenhower             Republican\n",
      "171   Dwight D. Eisenhower             Republican\n",
      "172   Dwight D. Eisenhower             Republican\n",
      "173        John F. Kennedy               Democrat\n",
      "174        John F. Kennedy               Democrat\n",
      "175        John F. Kennedy               Democrat\n",
      "176      Lyndon B. Johnson               Democrat\n",
      "177      Lyndon B. Johnson               Democrat\n",
      "178      Lyndon B. Johnson               Democrat\n",
      "179      Lyndon B. Johnson               Democrat\n",
      "180      Lyndon B. Johnson               Democrat\n",
      "181      Lyndon B. Johnson               Democrat\n",
      "182          Richard Nixon             Republican\n",
      "183          Richard Nixon             Republican\n",
      "184          Richard Nixon             Republican\n",
      "185          Richard Nixon             Republican\n",
      "186          Richard Nixon             Republican\n",
      "187         Gerald R. Ford             Republican\n",
      "188         Gerald R. Ford             Republican\n",
      "189         Gerald R. Ford             Republican\n",
      "190           Jimmy Carter               Democrat\n",
      "191           Jimmy Carter               Democrat\n",
      "192           Jimmy Carter               Democrat\n",
      "193           Jimmy Carter               Democrat\n",
      "194          Ronald Reagan             Republican\n",
      "195          Ronald Reagan             Republican\n",
      "196          Ronald Reagan             Republican\n",
      "197          Ronald Reagan             Republican\n",
      "198          Ronald Reagan             Republican\n",
      "199          Ronald Reagan             Republican\n",
      "200          Ronald Reagan             Republican\n",
      "201       George H.W. Bush             Republican\n",
      "202       George H.W. Bush             Republican\n",
      "203       George H.W. Bush             Republican\n",
      "204     William J. Clinton               Democrat\n",
      "205     William J. Clinton               Democrat\n",
      "206     William J. Clinton               Democrat\n",
      "207     William J. Clinton               Democrat\n",
      "208     William J. Clinton               Democrat\n",
      "209     William J. Clinton               Democrat\n",
      "210     William J. Clinton               Democrat\n",
      "211         George W. Bush             Republican\n",
      "212         George W. Bush             Republican\n",
      "213         George W. Bush             Republican\n",
      "214         George W. Bush             Republican\n",
      "215         George W. Bush             Republican\n",
      "216         George W. Bush             Republican\n",
      "217         George W. Bush             Republican\n",
      "218         George W. Bush             Republican\n",
      "219         George W. Bush             Republican\n",
      "220           Barack Obama               Democrat\n",
      "221           Barack Obama               Democrat\n",
      "222           Barack Obama               Democrat\n",
      "223           Barack Obama               Democrat\n",
      "224           Barack Obama               Democrat\n",
      "225           Barack Obama               Democrat\n",
      "226           Barack Obama               Democrat\n",
      "227           Barack Obama               Democrat\n"
     ]
    }
   ],
   "source": [
    "\n",
    "with pd.option_context('display.max_rows', 999, 'display.max_columns', 10):\n",
    "    print finaldf.iloc[:,[0,13]]"
   ]
  },
  {
   "cell_type": "code",
   "execution_count": 356,
   "metadata": {
    "collapsed": true
   },
   "outputs": [],
   "source": [
    "stats_df = finaldf[finaldf.name.duplicated() == False]\n",
    "stats_df.columns\n",
    "ratings = stats_df[\"Rating points\"]\n",
    "ratings = ratings[np.isnan(ratings) == False]\n",
    "median = np.percentile(ratings,50)\n",
    "per_75 = np.percentile(ratings,75)\n",
    "per_25 = np.percentile(ratings,25)\n",
    "\n"
   ]
  },
  {
   "cell_type": "code",
   "execution_count": 357,
   "metadata": {
    "collapsed": false
   },
   "outputs": [],
   "source": [
    "ratings_colors = []\n",
    "cols = sns.diverging_palette(260, 20, n=4)"
   ]
  },
  {
   "cell_type": "code",
   "execution_count": 358,
   "metadata": {
    "collapsed": false
   },
   "outputs": [
    {
     "name": "stderr",
     "output_type": "stream",
     "text": [
      "/usr/local/lib/python2.7/site-packages/ipykernel/__main__.py:15: SettingWithCopyWarning: \n",
      "A value is trying to be set on a copy of a slice from a DataFrame\n",
      "\n",
      "See the caveats in the documentation: http://pandas.pydata.org/pandas-docs/stable/indexing.html#indexing-view-versus-copy\n",
      "/usr/local/lib/python2.7/site-packages/ipykernel/__main__.py:12: SettingWithCopyWarning: \n",
      "A value is trying to be set on a copy of a slice from a DataFrame\n",
      "\n",
      "See the caveats in the documentation: http://pandas.pydata.org/pandas-docs/stable/indexing.html#indexing-view-versus-copy\n",
      "/usr/local/lib/python2.7/site-packages/ipykernel/__main__.py:9: SettingWithCopyWarning: \n",
      "A value is trying to be set on a copy of a slice from a DataFrame\n",
      "\n",
      "See the caveats in the documentation: http://pandas.pydata.org/pandas-docs/stable/indexing.html#indexing-view-versus-copy\n",
      "/usr/local/lib/python2.7/site-packages/ipykernel/__main__.py:6: SettingWithCopyWarning: \n",
      "A value is trying to be set on a copy of a slice from a DataFrame\n",
      "\n",
      "See the caveats in the documentation: http://pandas.pydata.org/pandas-docs/stable/indexing.html#indexing-view-versus-copy\n",
      "/usr/local/lib/python2.7/site-packages/ipykernel/__main__.py:18: SettingWithCopyWarning: \n",
      "A value is trying to be set on a copy of a slice from a DataFrame\n",
      "\n",
      "See the caveats in the documentation: http://pandas.pydata.org/pandas-docs/stable/indexing.html#indexing-view-versus-copy\n"
     ]
    }
   ],
   "source": [
    "sns.light_palette(\"red\")\n",
    "finaldf[\"RatingGroup\"] = 0\n",
    "for i in finaldf.index:\n",
    "    if finaldf[\"Rating points\"][i] <= per_25:\n",
    "        #ratings_colors.append(cols[0])\n",
    "        finaldf[\"RatingGroup\"][i] = 0\n",
    "    elif finaldf[\"Rating points\"][i] <= median:\n",
    "        #ratings_colors.append(cols[1])\n",
    "        finaldf[\"RatingGroup\"][i] = 1\n",
    "    elif finaldf[\"Rating points\"][i] <= per_75:\n",
    "        #ratings_colors.append(cols[2])\n",
    "        finaldf[\"RatingGroup\"][i] = 2\n",
    "    elif finaldf[\"Rating points\"][i] > per_75:\n",
    "        #ratings_colors.append(cols[3])\n",
    "        finaldf[\"RatingGroup\"][i] = 3\n",
    "    else:\n",
    "        #ratings_colors.append([(0,0,0)])\n",
    "        finaldf[\"RatingGroup\"][i] = 4\n",
    "\n"
   ]
  },
  {
   "cell_type": "code",
   "execution_count": null,
   "metadata": {
    "collapsed": false
   },
   "outputs": [],
   "source": []
  },
  {
   "cell_type": "markdown",
   "metadata": {},
   "source": [
    "# Create Dimensions"
   ]
  },
  {
   "cell_type": "code",
   "execution_count": 359,
   "metadata": {
    "collapsed": false
   },
   "outputs": [],
   "source": [
    "#Dimension Reduction with RF\n",
    "from sklearn.ensemble import RandomForestClassifier\n",
    "rf = RandomForestClassifier(n_estimators= 500, n_jobs=-1)"
   ]
  },
  {
   "cell_type": "code",
   "execution_count": 360,
   "metadata": {
    "collapsed": false
   },
   "outputs": [
    {
     "data": {
      "text/plain": [
       "RandomForestClassifier(bootstrap=True, class_weight=None, criterion='gini',\n",
       "            max_depth=None, max_features='auto', max_leaf_nodes=None,\n",
       "            min_samples_leaf=1, min_samples_split=2,\n",
       "            min_weight_fraction_leaf=0.0, n_estimators=500, n_jobs=-1,\n",
       "            oob_score=False, random_state=None, verbose=0,\n",
       "            warm_start=False)"
      ]
     },
     "execution_count": 360,
     "metadata": {},
     "output_type": "execute_result"
    }
   ],
   "source": [
    "rf.fit(df,toc.name)"
   ]
  },
  {
   "cell_type": "code",
   "execution_count": 361,
   "metadata": {
    "collapsed": false
   },
   "outputs": [],
   "source": [
    "a = rf.feature_importances_"
   ]
  },
  {
   "cell_type": "code",
   "execution_count": 362,
   "metadata": {
    "collapsed": false
   },
   "outputs": [],
   "source": [
    "features = np.argsort(a)[::-1]\n"
   ]
  },
  {
   "cell_type": "code",
   "execution_count": 363,
   "metadata": {
    "collapsed": false
   },
   "outputs": [
    {
     "data": {
      "image/png": "[encoded data removed]",
      "text/plain": [
       "<matplotlib.figure.Figure at 0x127dd8e50>"
      ]
     },
     "metadata": {},
     "output_type": "display_data"
    }
   ],
   "source": [
    "current_palette = sns.color_palette()\n",
    "sns.palplot(current_palette)"
   ]
  },
  {
   "cell_type": "code",
   "execution_count": 364,
   "metadata": {
    "collapsed": false
   },
   "outputs": [
    {
     "name": "stdout",
     "output_type": "stream",
     "text": [
      "[17304 21894  2934 19498 16829  9835  7995 19729 10196 10908 20354 10443\n",
      " 21687 13336 15803     1  6091 17014 24084 21720  2274 23965  2275 20628\n",
      " 16063]\n",
      "Feature ranking:\n"
     ]
    },
    {
     "data": {
      "image/png": "[encoded data removed]",
      "text/plain": [
       "<matplotlib.figure.Figure at 0x1248d7310>"
      ]
     },
     "metadata": {},
     "output_type": "display_data"
    }
   ],
   "source": [
    "fig = plt.figure()\n",
    "fig.set_size_inches(8, 8)\n",
    "ax1 = fig.add_subplot(1,1,1)\n",
    "#ax2 = fig.add_subplot(1,2,2)\n",
    "\n",
    "\n",
    "\n",
    "\n",
    "importances = rf.feature_importances_\n",
    "indices = np.argsort(importances)[::-1][0:25]\n",
    "indices = indices[::-1]\n",
    "print indices\n",
    "# Print the feature ranking\n",
    "print(\"Feature ranking:\")\n",
    "X = df\n",
    "# for f in range(X.shape[1]):\n",
    "#     print(\"%d. feature %d (%f)\" % (f + 1, indices[f], importances[indices[f]]))\n",
    "\n",
    "# Plot the feature importances of the forest\n",
    "\n",
    "ax1.barh(range(len(indices)),importances[indices], align=\"center\", color = current_palette[0])\n",
    "plt.yticks(range(len(indices)), df.columns[indices], fontsize = 12)\n",
    "\n",
    "plt.ylim([-0.75,24.5])\n",
    "\n",
    "\n",
    "#ax2.barh(range(len(indices))[0:24],importances[indices[0:24]],color=\"r\", align=\"center\")\n",
    "#plt.yticks(range(len(indices))[0:24], df.columns[indices][0:24])\n",
    "\n",
    "\n",
    "plt.title(\"Feature importance: Trying to Predict President from Vocabulary\")\n",
    "\n",
    "\n",
    "#plt.ylim([-1, X.shape[1]])\n",
    "plt.show()\n"
   ]
  },
  {
   "cell_type": "code",
   "execution_count": 365,
   "metadata": {
    "collapsed": true
   },
   "outputs": [],
   "source": [
    "df_rf = df.ix[:,indices]"
   ]
  },
  {
   "cell_type": "code",
   "execution_count": null,
   "metadata": {
    "collapsed": false
   },
   "outputs": [],
   "source": []
  },
  {
   "cell_type": "markdown",
   "metadata": {},
   "source": [
    "### TSNE"
   ]
  },
  {
   "cell_type": "code",
   "execution_count": 366,
   "metadata": {
    "collapsed": false
   },
   "outputs": [],
   "source": [
    "tsne = TSNE()\n",
    "tsnew = tsne.fit_transform(df_rf)"
   ]
  },
  {
   "cell_type": "markdown",
   "metadata": {
    "collapsed": false
   },
   "source": [
    "### PCA"
   ]
  },
  {
   "cell_type": "code",
   "execution_count": 367,
   "metadata": {
    "collapsed": false
   },
   "outputs": [],
   "source": [
    "pca = decomposition.PCA(n_components=2)\n",
    "new_pca = pca.fit_transform(df_rf)\n"
   ]
  },
  {
   "cell_type": "code",
   "execution_count": 368,
   "metadata": {
    "collapsed": false
   },
   "outputs": [],
   "source": [
    "#LDA\n",
    "from sklearn.lda import LDA"
   ]
  },
  {
   "cell_type": "code",
   "execution_count": 369,
   "metadata": {
    "collapsed": false
   },
   "outputs": [
    {
     "data": {
      "text/plain": [
       "(224, 25)"
      ]
     },
     "execution_count": 369,
     "metadata": {},
     "output_type": "execute_result"
    }
   ],
   "source": [
    "df_rf.shape"
   ]
  },
  {
   "cell_type": "code",
   "execution_count": 370,
   "metadata": {
    "collapsed": false
   },
   "outputs": [],
   "source": [
    "from sklearn.manifold import MDS"
   ]
  },
  {
   "cell_type": "code",
   "execution_count": 371,
   "metadata": {
    "collapsed": true
   },
   "outputs": [],
   "source": [
    "mds = MDS(n_components=2, dissimilarity=\"euclidean\")"
   ]
  },
  {
   "cell_type": "code",
   "execution_count": 372,
   "metadata": {
    "collapsed": false
   },
   "outputs": [],
   "source": [
    "mdsnew = mds.fit_transform(df_rf)"
   ]
  },
  {
   "cell_type": "code",
   "execution_count": 373,
   "metadata": {
    "collapsed": false
   },
   "outputs": [
    {
     "data": {
      "text/plain": [
       "{'Democrat': (0.55294120311737061, 0.82745099067687988, 0.78039216995239258),\n",
       " 'Democratic-Republican': (0.99649365649503818,\n",
       "  0.99864667443668143,\n",
       "  0.7025759500615737),\n",
       " 'Federalist': (0.74909651630065022, 0.73365630191915177, 0.85250289229785692),\n",
       " 'National Union': (0.9786851223777322,\n",
       "  0.50731260145411772,\n",
       "  0.45665513592607837),\n",
       " 'None': (0.50772782634286306, 0.69425607358708097, 0.82223761116757121),\n",
       " 'Republican': (0.99101883944343117, 0.70652827585444733, 0.38442138328271752),\n",
       " 'Whig': (0.70309882584740135, 0.86994233762516693, 0.41165706024450416)}"
      ]
     },
     "execution_count": 373,
     "metadata": {},
     "output_type": "execute_result"
    }
   ],
   "source": [
    "parties = np.unique(finaldf[\"Political Party\"])\n",
    "cols = sns.color_palette(\"Set3\", len(parties))\n",
    "\n",
    "col_dict = dict(zip(parties,cols))\n",
    "col_dict"
   ]
  },
  {
   "cell_type": "code",
   "execution_count": 374,
   "metadata": {
    "collapsed": false
   },
   "outputs": [
    {
     "name": "stdout",
     "output_type": "stream",
     "text": [
      "None\n",
      "None\n",
      "None\n",
      "None\n",
      "None\n",
      "None\n",
      "None\n",
      "None\n",
      "Federalist\n",
      "Federalist\n",
      "Federalist\n",
      "Federalist\n",
      "Democratic-Republican\n",
      "Democratic-Republican\n",
      "Democratic-Republican\n",
      "Democratic-Republican\n",
      "Democratic-Republican\n",
      "Democratic-Republican\n",
      "Democratic-Republican\n",
      "Democratic-Republican\n",
      "Democratic-Republican\n",
      "Democratic-Republican\n",
      "Democratic-Republican\n",
      "Democratic-Republican\n",
      "Democratic-Republican\n",
      "Democratic-Republican\n",
      "Democratic-Republican\n",
      "Democratic-Republican\n",
      "Democratic-Republican\n",
      "Democratic-Republican\n",
      "Democratic-Republican\n",
      "Democratic-Republican\n",
      "Democratic-Republican\n",
      "Democratic-Republican\n",
      "Democratic-Republican\n",
      "Democratic-Republican\n",
      "Democratic-Republican\n",
      "Democratic-Republican\n",
      "Democratic-Republican\n",
      "Democratic-Republican\n",
      "Democrat\n",
      "Democrat\n",
      "Democrat\n",
      "Democrat\n",
      "Democrat\n",
      "Democrat\n",
      "Democrat\n",
      "Democrat\n",
      "Democrat\n",
      "Democrat\n",
      "Democrat\n",
      "Democrat\n",
      "Whig\n",
      "Whig\n",
      "Whig\n",
      "Whig\n",
      "Democrat\n",
      "Democrat\n",
      "Democrat\n",
      "Democrat\n",
      "Whig\n",
      "Whig\n",
      "Whig\n",
      "Whig\n",
      "Democrat\n",
      "Democrat\n",
      "Democrat\n",
      "Democrat\n",
      "Democrat\n",
      "Democrat\n",
      "Democrat\n",
      "Democrat\n",
      "Republican\n",
      "Republican\n",
      "Republican\n",
      "Republican\n",
      "National Union\n",
      "National Union\n",
      "National Union\n",
      "National Union\n",
      "Republican\n",
      "Republican\n",
      "Republican\n",
      "Republican\n",
      "Republican\n",
      "Republican\n",
      "Republican\n",
      "Republican\n",
      "Republican\n",
      "Republican\n",
      "Republican\n",
      "Republican\n",
      "Republican\n",
      "Republican\n",
      "Republican\n",
      "Republican\n",
      "Democrat\n",
      "Democrat\n",
      "Democrat\n",
      "Democrat\n",
      "Republican\n",
      "Republican\n",
      "Republican\n",
      "Republican\n",
      "Republican\n",
      "Republican\n",
      "Republican\n",
      "Republican\n",
      "Republican\n",
      "Republican\n",
      "Republican\n",
      "Republican\n",
      "Republican\n",
      "Republican\n",
      "Republican\n",
      "Republican\n",
      "Republican\n",
      "Republican\n",
      "Republican\n",
      "Republican\n",
      "Democrat\n",
      "Democrat\n",
      "Democrat\n",
      "Democrat\n",
      "Democrat\n",
      "Democrat\n",
      "Democrat\n",
      "Democrat\n",
      "Republican\n",
      "Republican\n",
      "Republican\n",
      "Republican\n",
      "Republican\n",
      "Republican\n",
      "Republican\n",
      "Republican\n",
      "Republican\n",
      "Republican\n",
      "Republican\n",
      "Republican\n",
      "Democrat\n",
      "Democrat\n",
      "Democrat\n",
      "Democrat\n",
      "Democrat\n",
      "Democrat\n",
      "Democrat\n",
      "Democrat\n",
      "Democrat\n",
      "Democrat\n",
      "Democrat\n",
      "Democrat\n",
      "Democrat\n",
      "Democrat\n",
      "Democrat\n",
      "Democrat\n",
      "Democrat\n",
      "Democrat\n",
      "Democrat\n",
      "Democrat\n",
      "Republican\n",
      "Republican\n",
      "Republican\n",
      "Republican\n",
      "Republican\n",
      "Republican\n",
      "Republican\n",
      "Republican\n",
      "Republican\n",
      "Democrat\n",
      "Democrat\n",
      "Democrat\n",
      "Democrat\n",
      "Democrat\n",
      "Democrat\n",
      "Democrat\n",
      "Democrat\n",
      "Democrat\n",
      "Republican\n",
      "Republican\n",
      "Republican\n",
      "Republican\n",
      "Republican\n",
      "Republican\n",
      "Republican\n",
      "Republican\n",
      "Democrat\n",
      "Democrat\n",
      "Democrat\n",
      "Democrat\n",
      "Republican\n",
      "Republican\n",
      "Republican\n",
      "Republican\n",
      "Republican\n",
      "Republican\n",
      "Republican\n",
      "Republican\n",
      "Republican\n",
      "Republican\n",
      "Democrat\n",
      "Democrat\n",
      "Democrat\n",
      "Democrat\n",
      "Democrat\n",
      "Democrat\n",
      "Democrat\n",
      "Republican\n",
      "Republican\n",
      "Republican\n",
      "Republican\n",
      "Republican\n",
      "Republican\n",
      "Republican\n",
      "Republican\n",
      "Republican\n",
      "Democrat\n",
      "Democrat\n",
      "Democrat\n",
      "Democrat\n",
      "Democrat\n",
      "Democrat\n",
      "Democrat\n",
      "Democrat\n"
     ]
    }
   ],
   "source": [
    "for i in finaldf[\"Political Party\"]:\n",
    "    print i"
   ]
  },
  {
   "cell_type": "code",
   "execution_count": 375,
   "metadata": {
    "collapsed": false
   },
   "outputs": [
    {
     "data": {
      "image/png": "[encoded data removed]",
      "text/plain": [
       "<matplotlib.figure.Figure at 0x112535690>"
      ]
     },
     "metadata": {},
     "output_type": "display_data"
    }
   ],
   "source": [
    "fig = plt.figure()\n",
    "fig.set_size_inches(8, 12)\n",
    "ax2 = fig.add_subplot(3,1,1)\n",
    "\n",
    "\n",
    "x = new_pca[:,0]\n",
    "y = new_pca[:,1]\n",
    "#plt.scatter(x,y)\n",
    "#plt.text(x,y,finaldf.Namea)\n",
    "\n",
    "\n",
    "plot_df = finaldf\n",
    "plot_df[\"x\"] = x\n",
    "plot_df[\"y\"] = y\n",
    "\n",
    "for i in parties:\n",
    "    intdf = plot_df[plot_df[\"Political Party\"]==i]\n",
    "    plt.scatter(intdf.x,intdf.y,color = col_dict[i], s = 30 )\n",
    "plt.title(\"PCA\")\n",
    "#plt.legend(parties)\n",
    "\n",
    "#fig = plt.figure()\n",
    "#fig.set_size_inches(8, 8)\n",
    "ax2 = fig.add_subplot(3,1,2)\n",
    "x = mdsnew[:,0]\n",
    "y = mdsnew[:,1]\n",
    "plot_df = finaldf\n",
    "plot_df[\"x\"] = x\n",
    "plot_df[\"y\"] = y\n",
    "\n",
    "for i in parties:\n",
    "    intdf = plot_df[plot_df[\"Political Party\"]==i]\n",
    "    ax2.scatter(intdf.x,intdf.y,color = col_dict[i], s = 30 )\n",
    "\n",
    "plt.legend(parties, bbox_to_anchor=(1.35, 1))\n",
    "\n",
    "ax3 = fig.add_subplot(3,1,3)\n",
    "\n",
    "\n",
    "\n",
    "x = tsnew[:,0]\n",
    "y = tsnew[:,1]\n",
    "#plt.scatter(x,y)\n",
    "#plt.text(x,y,finaldf.Namea)\n",
    "\n",
    "\n",
    "plot_df = finaldf\n",
    "plot_df[\"x\"] = x\n",
    "plot_df[\"y\"] = y\n",
    "\n",
    "for i in parties:\n",
    "    intdf = plot_df[plot_df[\"Political Party\"]==i]\n",
    "    ax3.scatter(intdf.x,intdf.y,color = col_dict[i], s = 30 )\n",
    "\n",
    "\n",
    "# for i, txt in enumerate(files):\n",
    "#     #plt.annotate(finaldf.Name[i], (x[i],y[i]))\n",
    "#     plt.scatter(x[i],y[i],color = col_dict[finaldf[\"Political Party\"][i]], s = 80 )\n",
    "\n",
    "#plt.legend(parties)"
   ]
  },
  {
   "cell_type": "code",
   "execution_count": 246,
   "metadata": {
    "collapsed": false
   },
   "outputs": [
    {
     "name": "stdout",
     "output_type": "stream",
     "text": [
      "0\n",
      "1\n",
      "2\n",
      "3\n"
     ]
    },
    {
     "data": {
      "text/plain": [
       "<matplotlib.legend.Legend at 0x119c32c50>"
      ]
     },
     "execution_count": 246,
     "metadata": {},
     "output_type": "execute_result"
    },
    {
     "data": {
      "image/png": "[encoded data removed]",
      "text/plain": [
       "<matplotlib.figure.Figure at 0x116ad4d10>"
      ]
     },
     "metadata": {},
     "output_type": "display_data"
    }
   ],
   "source": [
    "fig = plt.figure()\n",
    "fig.set_size_inches(8, 8)\n",
    "ax1 = fig.add_subplot(1,1,1)\n",
    "\n",
    "\n",
    "x = tsnew[:,0]\n",
    "y = tsnew[:,1]\n",
    "#plt.scatter(x,y)\n",
    "#plt.text(x,y,finaldf.Namea)\n",
    "\n",
    "\n",
    "plot_df = finaldf\n",
    "plot_df[\"x\"] = x\n",
    "plot_df[\"y\"] = y\n",
    "\n",
    "for i in range(4):\n",
    "    print i\n",
    "    intdf = plot_df[plot_df[\"RatingGroup\"]==i]\n",
    "    plt.scatter(intdf.x,intdf.y,color = cols[i], s = 30 )\n",
    "\n",
    "\n",
    "# for i, txt in enumerate(files):\n",
    "#     #plt.annotate(finaldf.Name[i], (x[i],y[i]))\n",
    "#     plt.scatter(x[i],y[i],color = col_dict[finaldf[\"Political Party\"][i]], s = 80 )\n",
    "\n",
    "plt.legend([\"Lower25\",\"Mid-Lower25\",\"Mid-Upper25\",\"Upper25\"])"
   ]
  },
  {
   "cell_type": "code",
   "execution_count": 421,
   "metadata": {
    "collapsed": false
   },
   "outputs": [
    {
     "data": {
      "image/png": "[encoded data removed]",
      "text/plain": [
       "<matplotlib.figure.Figure at 0x11c3a7710>"
      ]
     },
     "metadata": {},
     "output_type": "display_data"
    }
   ],
   "source": [
    "sns.palplot(sns.diverging_palette(260, 20, n=4))"
   ]
  },
  {
   "cell_type": "markdown",
   "metadata": {},
   "source": [
    "##### "
   ]
  },
  {
   "cell_type": "code",
   "execution_count": 425,
   "metadata": {
    "collapsed": true
   },
   "outputs": [],
   "source": [
    "cols"
   ]
  },
  {
   "cell_type": "code",
   "execution_count": null,
   "metadata": {
    "collapsed": true
   },
   "outputs": [],
   "source": []
  }
 ],
 "metadata": {
  "kernelspec": {
   "display_name": "Python 2",
   "language": "python",
   "name": "python2"
  },
  "language_info": {
   "codemirror_mode": {
    "name": "ipython",
    "version": 2
   },
   "file_extension": ".py",
   "mimetype": "text/x-python",
   "name": "python",
   "nbconvert_exporter": "python",
   "pygments_lexer": "ipython2",
   "version": "2.7.11"
  }
 },
 "nbformat": 4,
 "nbformat_minor": 0
}
